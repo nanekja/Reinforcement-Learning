{
  "nbformat": 4,
  "nbformat_minor": 0,
  "metadata": {
    "colab": {
      "name": "RL_Cartpole_baseline.ipynb",
      "version": "0.3.2",
      "provenance": [],
      "collapsed_sections": []
    },
    "kernelspec": {
      "name": "python3",
      "display_name": "Python 3"
    }
  },
  "cells": [
    {
      "cell_type": "markdown",
      "metadata": {
        "id": "3ThKxDbnVSOz",
        "colab_type": "text"
      },
      "source": [
        "## Reinforcement Learning\n",
        "### CartPole environment in AI GYM"
      ]
    },
    {
      "cell_type": "markdown",
      "metadata": {
        "id": "oArDt3KzVbND",
        "colab_type": "text"
      },
      "source": [
        "#### Importing the AI GYM"
      ]
    },
    {
      "cell_type": "code",
      "metadata": {
        "id": "jpP1bW2-TAm8",
        "colab_type": "code",
        "colab": {}
      },
      "source": [
        "import gym\n",
        "import matplotlib.pyplot as plt\n",
        "import numpy as np"
      ],
      "execution_count": 0,
      "outputs": []
    },
    {
      "cell_type": "markdown",
      "metadata": {
        "id": "LAZqAeVCVkP8",
        "colab_type": "text"
      },
      "source": [
        "#### To get CartPole environment from AI GYM"
      ]
    },
    {
      "cell_type": "code",
      "metadata": {
        "id": "XwXQSNyRTNLl",
        "colab_type": "code",
        "colab": {}
      },
      "source": [
        "env=gym.make(\"CartPole-v0\")"
      ],
      "execution_count": 0,
      "outputs": []
    },
    {
      "cell_type": "markdown",
      "metadata": {
        "id": "LlGh3dFZWDKJ",
        "colab_type": "text"
      },
      "source": [
        "#### To go to start state"
      ]
    },
    {
      "cell_type": "code",
      "metadata": {
        "id": "Ir7awx-PVA_3",
        "colab_type": "code",
        "colab": {
          "base_uri": "https://localhost:8080/",
          "height": 35
        },
        "outputId": "2387c3da-65de-423c-ad5e-453a8f468ccf"
      },
      "source": [
        "env.reset()"
      ],
      "execution_count": 3,
      "outputs": [
        {
          "output_type": "execute_result",
          "data": {
            "text/plain": [
              "array([-0.0425358 , -0.0142526 ,  0.01997737, -0.04197828])"
            ]
          },
          "metadata": {
            "tags": []
          },
          "execution_count": 3
        }
      ]
    },
    {
      "cell_type": "markdown",
      "metadata": {
        "id": "4FgSzzyDomH0",
        "colab_type": "text"
      },
      "source": [
        "#### Environment Observation Space"
      ]
    },
    {
      "cell_type": "code",
      "metadata": {
        "id": "NAvhRiarVOGx",
        "colab_type": "code",
        "colab": {
          "base_uri": "https://localhost:8080/",
          "height": 35
        },
        "outputId": "bc33aa6f-f30d-4a43-be14-ed7f58d2b5d4"
      },
      "source": [
        "box=env.observation_space\n",
        "box"
      ],
      "execution_count": 4,
      "outputs": [
        {
          "output_type": "execute_result",
          "data": {
            "text/plain": [
              "Box(4,)"
            ]
          },
          "metadata": {
            "tags": []
          },
          "execution_count": 4
        }
      ]
    },
    {
      "cell_type": "markdown",
      "metadata": {
        "id": "x4OBKzzrpW0R",
        "colab_type": "text"
      },
      "source": [
        "#### Environment Observation space high value"
      ]
    },
    {
      "cell_type": "code",
      "metadata": {
        "id": "G70WL7iNkx0v",
        "colab_type": "code",
        "colab": {
          "base_uri": "https://localhost:8080/",
          "height": 52
        },
        "outputId": "15c95118-e5de-4447-bbf0-671b8d573b46"
      },
      "source": [
        "box.high"
      ],
      "execution_count": 5,
      "outputs": [
        {
          "output_type": "execute_result",
          "data": {
            "text/plain": [
              "array([4.8000002e+00, 3.4028235e+38, 4.1887903e-01, 3.4028235e+38],\n",
              "      dtype=float32)"
            ]
          },
          "metadata": {
            "tags": []
          },
          "execution_count": 5
        }
      ]
    },
    {
      "cell_type": "markdown",
      "metadata": {
        "id": "p9C8h1mSrprG",
        "colab_type": "text"
      },
      "source": [
        "#### Environment Observation space low value"
      ]
    },
    {
      "cell_type": "code",
      "metadata": {
        "id": "hF2DnOBkpLTl",
        "colab_type": "code",
        "colab": {
          "base_uri": "https://localhost:8080/",
          "height": 52
        },
        "outputId": "a073cb30-3ccc-46bb-dfa5-31cfd0645a1c"
      },
      "source": [
        "box.low"
      ],
      "execution_count": 6,
      "outputs": [
        {
          "output_type": "execute_result",
          "data": {
            "text/plain": [
              "array([-4.8000002e+00, -3.4028235e+38, -4.1887903e-01, -3.4028235e+38],\n",
              "      dtype=float32)"
            ]
          },
          "metadata": {
            "tags": []
          },
          "execution_count": 6
        }
      ]
    },
    {
      "cell_type": "markdown",
      "metadata": {
        "id": "LFyQgV0_sIGx",
        "colab_type": "text"
      },
      "source": [
        "#### Environment Observation space random value"
      ]
    },
    {
      "cell_type": "code",
      "metadata": {
        "id": "m_ZveakEpPRp",
        "colab_type": "code",
        "colab": {
          "base_uri": "https://localhost:8080/",
          "height": 35
        },
        "outputId": "8aef89af-e019-45b9-8df4-10afeb9c6f1b"
      },
      "source": [
        "box.sample"
      ],
      "execution_count": 7,
      "outputs": [
        {
          "output_type": "execute_result",
          "data": {
            "text/plain": [
              "<bound method Box.sample of Box(4,)>"
            ]
          },
          "metadata": {
            "tags": []
          },
          "execution_count": 7
        }
      ]
    },
    {
      "cell_type": "markdown",
      "metadata": {
        "id": "AlzauV6CsTAh",
        "colab_type": "text"
      },
      "source": [
        "#### Environment Action space"
      ]
    },
    {
      "cell_type": "markdown",
      "metadata": {
        "id": "Tw62pg5xsq4_",
        "colab_type": "text"
      },
      "source": [
        "|Num|Action|\n",
        "|---|---|\n",
        "|0|Push Cart to the Left|\n",
        "|1|Push Cart to the Right|"
      ]
    },
    {
      "cell_type": "code",
      "metadata": {
        "id": "lplmviaesQAZ",
        "colab_type": "code",
        "colab": {
          "base_uri": "https://localhost:8080/",
          "height": 35
        },
        "outputId": "52950048-2aa7-46fc-9e70-043c3c38d665"
      },
      "source": [
        "env.action_space"
      ],
      "execution_count": 8,
      "outputs": [
        {
          "output_type": "execute_result",
          "data": {
            "text/plain": [
              "Discrete(2)"
            ]
          },
          "metadata": {
            "tags": []
          },
          "execution_count": 8
        }
      ]
    },
    {
      "cell_type": "markdown",
      "metadata": {
        "id": "RSErZ-IjtDjW",
        "colab_type": "text"
      },
      "source": [
        "#### Play an episode [observation, reward, done, info=env.step(action)]"
      ]
    },
    {
      "cell_type": "code",
      "metadata": {
        "id": "LjxgNldRtFTj",
        "colab_type": "code",
        "colab": {}
      },
      "source": [
        "observation, reward, done, info=env.step(0)"
      ],
      "execution_count": 0,
      "outputs": []
    },
    {
      "cell_type": "code",
      "metadata": {
        "id": "tHlkEtz2tjuV",
        "colab_type": "code",
        "colab": {
          "base_uri": "https://localhost:8080/",
          "height": 35
        },
        "outputId": "06873f0e-796e-43b8-a107-6c59355f9627"
      },
      "source": [
        "observation"
      ],
      "execution_count": 10,
      "outputs": [
        {
          "output_type": "execute_result",
          "data": {
            "text/plain": [
              "array([-0.04282085, -0.20965524,  0.01913781,  0.25694015])"
            ]
          },
          "metadata": {
            "tags": []
          },
          "execution_count": 10
        }
      ]
    },
    {
      "cell_type": "markdown",
      "metadata": {
        "id": "zb0SFUxxwbvx",
        "colab_type": "text"
      },
      "source": [
        "#### No Learning component in this code\n",
        "#### Random actions until episode ends"
      ]
    },
    {
      "cell_type": "code",
      "metadata": {
        "id": "GkPFQWVGu8Ii",
        "colab_type": "code",
        "colab": {
          "base_uri": "https://localhost:8080/",
          "height": 1889
        },
        "outputId": "17702612-a29c-4105-9798-cd1afbdbb33e"
      },
      "source": [
        "N=100\n",
        "steps = np.empty(N)\n",
        "for epochs in range(N):\n",
        "  done=False\n",
        "  step=0\n",
        "  env.reset()\n",
        "  while not done:\n",
        "    observation, reward, done, _=env.step(env.action_space.sample())\n",
        "    step=step+1\n",
        "  print(step)\n",
        "  steps[epochs]=step\n",
        "  \n",
        "steps"
      ],
      "execution_count": 11,
      "outputs": [
        {
          "output_type": "stream",
          "text": [
            "13\n",
            "15\n",
            "24\n",
            "21\n",
            "39\n",
            "36\n",
            "22\n",
            "23\n",
            "17\n",
            "18\n",
            "12\n",
            "22\n",
            "26\n",
            "15\n",
            "16\n",
            "16\n",
            "25\n",
            "48\n",
            "14\n",
            "13\n",
            "21\n",
            "12\n",
            "12\n",
            "30\n",
            "25\n",
            "22\n",
            "16\n",
            "26\n",
            "20\n",
            "20\n",
            "48\n",
            "31\n",
            "28\n",
            "16\n",
            "36\n",
            "20\n",
            "13\n",
            "8\n",
            "18\n",
            "17\n",
            "27\n",
            "32\n",
            "42\n",
            "16\n",
            "9\n",
            "29\n",
            "14\n",
            "17\n",
            "25\n",
            "43\n",
            "39\n",
            "18\n",
            "12\n",
            "27\n",
            "17\n",
            "15\n",
            "19\n",
            "14\n",
            "11\n",
            "33\n",
            "18\n",
            "10\n",
            "31\n",
            "34\n",
            "72\n",
            "27\n",
            "12\n",
            "28\n",
            "23\n",
            "24\n",
            "11\n",
            "37\n",
            "30\n",
            "21\n",
            "18\n",
            "30\n",
            "17\n",
            "13\n",
            "17\n",
            "21\n",
            "13\n",
            "12\n",
            "13\n",
            "14\n",
            "42\n",
            "20\n",
            "25\n",
            "31\n",
            "10\n",
            "12\n",
            "29\n",
            "20\n",
            "12\n",
            "16\n",
            "32\n",
            "21\n",
            "28\n",
            "10\n",
            "48\n",
            "23\n"
          ],
          "name": "stdout"
        },
        {
          "output_type": "execute_result",
          "data": {
            "text/plain": [
              "array([13., 15., 24., 21., 39., 36., 22., 23., 17., 18., 12., 22., 26.,\n",
              "       15., 16., 16., 25., 48., 14., 13., 21., 12., 12., 30., 25., 22.,\n",
              "       16., 26., 20., 20., 48., 31., 28., 16., 36., 20., 13.,  8., 18.,\n",
              "       17., 27., 32., 42., 16.,  9., 29., 14., 17., 25., 43., 39., 18.,\n",
              "       12., 27., 17., 15., 19., 14., 11., 33., 18., 10., 31., 34., 72.,\n",
              "       27., 12., 28., 23., 24., 11., 37., 30., 21., 18., 30., 17., 13.,\n",
              "       17., 21., 13., 12., 13., 14., 42., 20., 25., 31., 10., 12., 29.,\n",
              "       20., 12., 16., 32., 21., 28., 10., 48., 23.])"
            ]
          },
          "metadata": {
            "tags": []
          },
          "execution_count": 11
        }
      ]
    },
    {
      "cell_type": "code",
      "metadata": {
        "id": "aj8HoBpl72kP",
        "colab_type": "code",
        "colab": {
          "base_uri": "https://localhost:8080/",
          "height": 287
        },
        "outputId": "e4dabe58-5ada-4681-f165-ac47e10dc6e3"
      },
      "source": [
        "plt.plot(steps, label='Steps taken by Random actions')\n",
        "avg_steps=(sum(steps))/epochs\n",
        "avg_steps"
      ],
      "execution_count": 12,
      "outputs": [
        {
          "output_type": "execute_result",
          "data": {
            "text/plain": [
              "22.80808080808081"
            ]
          },
          "metadata": {
            "tags": []
          },
          "execution_count": 12
        },
        {
          "output_type": "display_data",
          "data": {
            "image/png": "[encoded data removed]",
            "text/plain": [
              "<Figure size 432x288 with 1 Axes>"
            ]
          },
          "metadata": {
            "tags": []
          }
        }
      ]
    }
  ]
}