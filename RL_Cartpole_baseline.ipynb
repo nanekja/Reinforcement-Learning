{
  "nbformat": 4,
  "nbformat_minor": 0,
  "metadata": {
    "colab": {
      "name": "RL_Cartpole_baseline.ipynb",
      "version": "0.3.2",
      "provenance": [],
      "collapsed_sections": []
    },
    "kernelspec": {
      "name": "python3",
      "display_name": "Python 3"
    }
  },
  "cells": [
    {
      "cell_type": "markdown",
      "metadata": {
        "id": "3ThKxDbnVSOz",
        "colab_type": "text"
      },
      "source": [
        "## Reinforcement Learning\n",
        "### CartPole environment in AI GYM"
      ]
    },
    {
      "cell_type": "markdown",
      "metadata": {
        "id": "oArDt3KzVbND",
        "colab_type": "text"
      },
      "source": [
        "#### Importing the AI GYM"
      ]
    },
    {
      "cell_type": "code",
      "metadata": {
        "id": "jpP1bW2-TAm8",
        "colab_type": "code",
        "colab": {}
      },
      "source": [
        "import gym\n",
        "import matplotlib.pyplot as plt\n",
        "import numpy as np"
      ],
      "execution_count": 0,
      "outputs": []
    },
    {
      "cell_type": "markdown",
      "metadata": {
        "id": "LAZqAeVCVkP8",
        "colab_type": "text"
      },
      "source": [
        "#### To get CartPole environment from AI GYM"
      ]
    },
    {
      "cell_type": "code",
      "metadata": {
        "id": "XwXQSNyRTNLl",
        "colab_type": "code",
        "colab": {}
      },
      "source": [
        "env=gym.make(\"CartPole-v0\")"
      ],
      "execution_count": 0,
      "outputs": []
    },
    {
      "cell_type": "markdown",
      "metadata": {
        "id": "LlGh3dFZWDKJ",
        "colab_type": "text"
      },
      "source": [
        "#### To go to start state"
      ]
    },
    {
      "cell_type": "code",
      "metadata": {
        "id": "Ir7awx-PVA_3",
        "colab_type": "code",
        "colab": {
          "base_uri": "https://localhost:8080/",
          "height": 35
        },
        "outputId": "bf9b8b98-8ae5-475c-9ef4-022459adfd0d"
      },
      "source": [
        "env.reset()"
      ],
      "execution_count": 3,
      "outputs": [
        {
          "output_type": "execute_result",
          "data": {
            "text/plain": [
              "array([-0.03015795, -0.03690072,  0.02258127, -0.04625948])"
            ]
          },
          "metadata": {
            "tags": []
          },
          "execution_count": 3
        }
      ]
    },
    {
      "cell_type": "markdown",
      "metadata": {
        "id": "4FgSzzyDomH0",
        "colab_type": "text"
      },
      "source": [
        "#### Environment Observation Space"
      ]
    },
    {
      "cell_type": "code",
      "metadata": {
        "id": "NAvhRiarVOGx",
        "colab_type": "code",
        "colab": {
          "base_uri": "https://localhost:8080/",
          "height": 35
        },
        "outputId": "410e3c32-5441-4c57-b859-e39b8d26d16d"
      },
      "source": [
        "box=env.observation_space\n",
        "box"
      ],
      "execution_count": 4,
      "outputs": [
        {
          "output_type": "execute_result",
          "data": {
            "text/plain": [
              "Box(4,)"
            ]
          },
          "metadata": {
            "tags": []
          },
          "execution_count": 4
        }
      ]
    },
    {
      "cell_type": "markdown",
      "metadata": {
        "id": "x4OBKzzrpW0R",
        "colab_type": "text"
      },
      "source": [
        "#### Environment Observation space high value"
      ]
    },
    {
      "cell_type": "code",
      "metadata": {
        "id": "G70WL7iNkx0v",
        "colab_type": "code",
        "colab": {
          "base_uri": "https://localhost:8080/",
          "height": 52
        },
        "outputId": "fec69a49-0490-4505-a85c-d9138abbfae4"
      },
      "source": [
        "box.high"
      ],
      "execution_count": 5,
      "outputs": [
        {
          "output_type": "execute_result",
          "data": {
            "text/plain": [
              "array([4.8000002e+00, 3.4028235e+38, 4.1887903e-01, 3.4028235e+38],\n",
              "      dtype=float32)"
            ]
          },
          "metadata": {
            "tags": []
          },
          "execution_count": 5
        }
      ]
    },
    {
      "cell_type": "markdown",
      "metadata": {
        "id": "p9C8h1mSrprG",
        "colab_type": "text"
      },
      "source": [
        "#### Environment Observation space low value"
      ]
    },
    {
      "cell_type": "code",
      "metadata": {
        "id": "hF2DnOBkpLTl",
        "colab_type": "code",
        "colab": {
          "base_uri": "https://localhost:8080/",
          "height": 52
        },
        "outputId": "004ec937-1539-4768-ffea-5e1a09146b3f"
      },
      "source": [
        "box.low"
      ],
      "execution_count": 6,
      "outputs": [
        {
          "output_type": "execute_result",
          "data": {
            "text/plain": [
              "array([-4.8000002e+00, -3.4028235e+38, -4.1887903e-01, -3.4028235e+38],\n",
              "      dtype=float32)"
            ]
          },
          "metadata": {
            "tags": []
          },
          "execution_count": 6
        }
      ]
    },
    {
      "cell_type": "markdown",
      "metadata": {
        "id": "LFyQgV0_sIGx",
        "colab_type": "text"
      },
      "source": [
        "#### Environment Observation space random value"
      ]
    },
    {
      "cell_type": "code",
      "metadata": {
        "id": "m_ZveakEpPRp",
        "colab_type": "code",
        "colab": {
          "base_uri": "https://localhost:8080/",
          "height": 35
        },
        "outputId": "5d72b161-7f63-4790-a971-cabeb6b6e8d6"
      },
      "source": [
        "box.sample"
      ],
      "execution_count": 7,
      "outputs": [
        {
          "output_type": "execute_result",
          "data": {
            "text/plain": [
              "<bound method Box.sample of Box(4,)>"
            ]
          },
          "metadata": {
            "tags": []
          },
          "execution_count": 7
        }
      ]
    },
    {
      "cell_type": "markdown",
      "metadata": {
        "id": "AlzauV6CsTAh",
        "colab_type": "text"
      },
      "source": [
        "#### Environment Action space"
      ]
    },
    {
      "cell_type": "markdown",
      "metadata": {
        "id": "Tw62pg5xsq4_",
        "colab_type": "text"
      },
      "source": [
        "|Num|Action|\n",
        "|---|---|\n",
        "|0|Push Cart to the Left|\n",
        "|1|Push Cart to the Right|"
      ]
    },
    {
      "cell_type": "code",
      "metadata": {
        "id": "lplmviaesQAZ",
        "colab_type": "code",
        "colab": {
          "base_uri": "https://localhost:8080/",
          "height": 35
        },
        "outputId": "d21283b9-c719-451e-a03a-c0de5a0f7d55"
      },
      "source": [
        "env.action_space"
      ],
      "execution_count": 8,
      "outputs": [
        {
          "output_type": "execute_result",
          "data": {
            "text/plain": [
              "Discrete(2)"
            ]
          },
          "metadata": {
            "tags": []
          },
          "execution_count": 8
        }
      ]
    },
    {
      "cell_type": "markdown",
      "metadata": {
        "id": "RSErZ-IjtDjW",
        "colab_type": "text"
      },
      "source": [
        "#### Play an episode [observation, reward, done, info=env.step(action)]"
      ]
    },
    {
      "cell_type": "code",
      "metadata": {
        "id": "LjxgNldRtFTj",
        "colab_type": "code",
        "colab": {}
      },
      "source": [
        "observation, reward, done, info=env.step(0)"
      ],
      "execution_count": 0,
      "outputs": []
    },
    {
      "cell_type": "code",
      "metadata": {
        "id": "tHlkEtz2tjuV",
        "colab_type": "code",
        "colab": {
          "base_uri": "https://localhost:8080/",
          "height": 35
        },
        "outputId": "ebefe9d5-2e2f-426d-a40c-bad479f5d64b"
      },
      "source": [
        "observation"
      ],
      "execution_count": 10,
      "outputs": [
        {
          "output_type": "execute_result",
          "data": {
            "text/plain": [
              "array([-0.03089596, -0.23233907,  0.02165608,  0.25346163])"
            ]
          },
          "metadata": {
            "tags": []
          },
          "execution_count": 10
        }
      ]
    },
    {
      "cell_type": "markdown",
      "metadata": {
        "id": "zb0SFUxxwbvx",
        "colab_type": "text"
      },
      "source": [
        "#### No Learning component in this code\n",
        "#### Random actions until episode ends"
      ]
    },
    {
      "cell_type": "code",
      "metadata": {
        "id": "GkPFQWVGu8Ii",
        "colab_type": "code",
        "colab": {
          "base_uri": "https://localhost:8080/",
          "height": 156
        },
        "outputId": "2001a35f-228d-46de-fe35-70cc4c92f539"
      },
      "source": [
        "N=100\n",
        "steps = np.empty(N)\n",
        "for epochs in range(N):\n",
        "  done=False\n",
        "  step=0\n",
        "  env.reset()\n",
        "  while not done:\n",
        "    observation, reward, done, _=env.step(env.action_space.sample())\n",
        "    step=step+1\n",
        "  steps[epochs]=step\n",
        "  \n",
        "steps"
      ],
      "execution_count": 11,
      "outputs": [
        {
          "output_type": "execute_result",
          "data": {
            "text/plain": [
              "array([13., 20., 18., 12., 15., 19., 24., 10., 47., 16., 11., 25., 22.,\n",
              "       12., 20., 41., 19., 15., 21., 19., 16., 35., 15., 21., 18., 30.,\n",
              "       20., 20., 49., 16., 12., 16., 11., 15., 33., 28., 18., 18., 13.,\n",
              "       16., 24., 25., 34., 20., 17., 30., 28., 21., 13., 29., 17., 12.,\n",
              "        9.,  9., 23., 32., 35., 24., 34., 13., 13., 25., 21., 33., 25.,\n",
              "       11., 24., 21., 25., 28., 24., 29., 12.,  9., 19., 64., 49., 14.,\n",
              "       14., 25., 20., 17., 19., 16., 36., 12., 13., 24., 24., 23., 11.,\n",
              "       23., 16., 17., 17., 13., 25., 24., 44., 16.])"
            ]
          },
          "metadata": {
            "tags": []
          },
          "execution_count": 11
        }
      ]
    },
    {
      "cell_type": "code",
      "metadata": {
        "id": "aj8HoBpl72kP",
        "colab_type": "code",
        "colab": {
          "base_uri": "https://localhost:8080/",
          "height": 287
        },
        "outputId": "70893269-d4ad-462c-f4b8-dd6a35b421fd"
      },
      "source": [
        "plt.plot(steps, label='Steps taken by Random actions')\n",
        "avg_steps=(sum(steps))/epochs\n",
        "avg_steps"
      ],
      "execution_count": 12,
      "outputs": [
        {
          "output_type": "execute_result",
          "data": {
            "text/plain": [
              "21.848484848484848"
            ]
          },
          "metadata": {
            "tags": []
          },
          "execution_count": 12
        },
        {
          "output_type": "display_data",
          "data": {
            "image/png": "[encoded data removed]",
            "text/plain": [
              "<Figure size 432x288 with 1 Axes>"
            ]
          },
          "metadata": {
            "tags": []
          }
        }
      ]
    }
  ]
}