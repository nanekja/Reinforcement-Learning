{
  "nbformat": 4,
  "nbformat_minor": 0,
  "metadata": {
    "colab": {
      "name": "RL_Cartpole_RandomSearch.ipynb",
      "version": "0.3.2",
      "provenance": [],
      "collapsed_sections": []
    },
    "kernelspec": {
      "name": "python3",
      "display_name": "Python 3"
    }
  },
  "cells": [
    {
      "cell_type": "markdown",
      "metadata": {
        "id": "3ThKxDbnVSOz",
        "colab_type": "text"
      },
      "source": [
        "## Reinforcement Learning\n",
        "### CartPole environment in AI GYM\n",
        "### Random Search for weight parameters that decide actions"
      ]
    },
    {
      "cell_type": "markdown",
      "metadata": {
        "id": "oArDt3KzVbND",
        "colab_type": "text"
      },
      "source": [
        "#### Importing the AI GYM"
      ]
    },
    {
      "cell_type": "code",
      "metadata": {
        "id": "jpP1bW2-TAm8",
        "colab_type": "code",
        "colab": {}
      },
      "source": [
        "import gym\n",
        "import matplotlib.pyplot as plt\n",
        "import numpy as np"
      ],
      "execution_count": 0,
      "outputs": []
    },
    {
      "cell_type": "markdown",
      "metadata": {
        "id": "oHtewNiqZvnz",
        "colab_type": "text"
      },
      "source": [
        "#### Importing some future functions available in Python 3"
      ]
    },
    {
      "cell_type": "code",
      "metadata": {
        "id": "BGu54m28ZIaP",
        "colab_type": "code",
        "colab": {}
      },
      "source": [
        "from __future__ import print_function, division\n",
        "from builtins import range"
      ],
      "execution_count": 0,
      "outputs": []
    },
    {
      "cell_type": "markdown",
      "metadata": {
        "id": "AlzauV6CsTAh",
        "colab_type": "text"
      },
      "source": [
        "#### Environment Action space"
      ]
    },
    {
      "cell_type": "markdown",
      "metadata": {
        "id": "Tw62pg5xsq4_",
        "colab_type": "text"
      },
      "source": [
        "|Num|Action|\n",
        "|---|---|\n",
        "|0|Push Cart to the Left|\n",
        "|1|Push Cart to the Right|"
      ]
    },
    {
      "cell_type": "markdown",
      "metadata": {
        "id": "E57NiGQ5Z2DN",
        "colab_type": "text"
      },
      "source": [
        "#### S=State; W=Weights\n",
        "#### Our action depends on the dot product of S & W.\n",
        "#### That is if S.W >0; then action =1 else action =0"
      ]
    },
    {
      "cell_type": "code",
      "metadata": {
        "id": "aeigiaJiZWWe",
        "colab_type": "code",
        "colab": {}
      },
      "source": [
        "def get_action(s, w):\n",
        "  return 1 if s.dot(w) > 0 else 0"
      ],
      "execution_count": 0,
      "outputs": []
    },
    {
      "cell_type": "markdown",
      "metadata": {
        "id": "AW8rKV3SaTXo",
        "colab_type": "text"
      },
      "source": [
        "#### Defining single episode run. The recent CartPole version is only allowing upto 200 iterations, hence though t is meant to run for 10000 iterations, it will infact run upto 200 iterations.\n",
        "\n",
        "#### Rewards are all 1 but they are being ignored.\n",
        "\n",
        "#### Here we are interested in returning back the no.of steps/ iterations (t) that each episode ran."
      ]
    },
    {
      "cell_type": "code",
      "metadata": {
        "id": "Lo3LIimHZY9f",
        "colab_type": "code",
        "colab": {}
      },
      "source": [
        "def play_one_episode(env, params):\n",
        "  observation = env.reset()\n",
        "  done = False\n",
        "  t = 0\n",
        "\n",
        "  while not done and t < 10000:\n",
        "    #env.render()\n",
        "    t += 1\n",
        "    action = get_action(observation, params)\n",
        "    observation, reward, done, info = env.step(action)\n",
        "    if done:\n",
        "      break\n",
        "\n",
        "  return t"
      ],
      "execution_count": 0,
      "outputs": []
    },
    {
      "cell_type": "markdown",
      "metadata": {
        "id": "hzNdBT6wbptT",
        "colab_type": "text"
      },
      "source": [
        "#### Defining multi episode play. The no.of episodes is determined by input variable T.\n",
        "#### The no.of steps/episode (t) is collected for T episodes and stored as episode_lengths variable.\n",
        "#### Average no.of steps in T episodes is done by computing mean of episode_lengths and this average length of each episode is returned."
      ]
    },
    {
      "cell_type": "code",
      "metadata": {
        "id": "B7pWv6J5Zbwv",
        "colab_type": "code",
        "colab": {}
      },
      "source": [
        "def play_multiple_episodes(env, T, params):\n",
        "  episode_lengths = np.empty(T)\n",
        "\n",
        "  for i in range(T):\n",
        "    episode_lengths[i] = play_one_episode(env, params)\n",
        "\n",
        "  avg_length = episode_lengths.mean()\n",
        "  print(\"avg length:\", avg_length)\n",
        "  return avg_length"
      ],
      "execution_count": 0,
      "outputs": []
    },
    {
      "cell_type": "markdown",
      "metadata": {
        "id": "XdKshEWkbwIq",
        "colab_type": "text"
      },
      "source": [
        "#### Defining Random Search. \n",
        "#### Random search is performed over 100 random weight parameters that are pulled out of a uniform distribution of -1 to +1.\n",
        "#### Each random weight parameter is passed to muilple episode function to run through 100 episodes and returned with average length of the episode.\n",
        "#### So for 100 random weight parameters we will get 100 average lengths of the episodes.\n",
        "#### One can pick the best average length of the 100 average lengths and can store the corresponding best weight parameters for the best average length episode.\n"
      ]
    },
    {
      "cell_type": "code",
      "metadata": {
        "id": "KW-8BbRfZewg",
        "colab_type": "code",
        "colab": {}
      },
      "source": [
        "def random_search(env):\n",
        "  episode_lengths = []\n",
        "  best = 0\n",
        "  params = None\n",
        "  for t in range(100):\n",
        "    new_params = np.random.random(4)*2 - 1\n",
        "    avg_length = play_multiple_episodes(env, 100, new_params)\n",
        "    episode_lengths.append(avg_length)\n",
        "\n",
        "    if avg_length > best:\n",
        "      params = new_params\n",
        "      best = avg_length\n",
        "  return episode_lengths, params"
      ],
      "execution_count": 0,
      "outputs": []
    },
    {
      "cell_type": "markdown",
      "metadata": {
        "id": "qw3oULksbz2Y",
        "colab_type": "text"
      },
      "source": [
        "#### Running episodes\n",
        "#### Main program runs random_search function and obtains the average lengths, best average lengths and best weight parameters.\n",
        "#### Plot for average lengths for 100 random weight parameters."
      ]
    },
    {
      "cell_type": "code",
      "metadata": {
        "id": "BWCHTCFQZh0O",
        "colab_type": "code",
        "colab": {
          "base_uri": "https://localhost:8080/",
          "height": 2037
        },
        "outputId": "3924ac1e-86e0-4b41-905f-2a3f94a396dd"
      },
      "source": [
        "if __name__ == '__main__':\n",
        "  env = gym.make('CartPole-v0')\n",
        "  episode_lengths, params = random_search(env)\n",
        "  plt.plot(episode_lengths)\n",
        "  plt.show()\n",
        "\n",
        "  # play a final set of episodes\n",
        "  print(\"***Final run with final weights***\")\n",
        "  play_multiple_episodes(env, 100, params)"
      ],
      "execution_count": 7,
      "outputs": [
        {
          "output_type": "stream",
          "text": [
            "avg length: 83.22\n",
            "avg length: 75.55\n",
            "avg length: 183.41\n",
            "avg length: 35.37\n",
            "avg length: 45.35\n",
            "avg length: 9.15\n",
            "avg length: 64.96\n",
            "avg length: 115.46\n",
            "avg length: 9.48\n",
            "avg length: 9.42\n",
            "avg length: 41.6\n",
            "avg length: 151.45\n",
            "avg length: 200.0\n",
            "avg length: 32.97\n",
            "avg length: 9.06\n",
            "avg length: 9.67\n",
            "avg length: 9.28\n",
            "avg length: 9.83\n",
            "avg length: 9.58\n",
            "avg length: 9.33\n",
            "avg length: 9.18\n",
            "avg length: 9.34\n",
            "avg length: 9.11\n",
            "avg length: 13.49\n",
            "avg length: 36.35\n",
            "avg length: 61.81\n",
            "avg length: 61.31\n",
            "avg length: 8.79\n",
            "avg length: 9.61\n",
            "avg length: 104.92\n",
            "avg length: 9.36\n",
            "avg length: 9.18\n",
            "avg length: 9.24\n",
            "avg length: 31.68\n",
            "avg length: 200.0\n",
            "avg length: 9.68\n",
            "avg length: 9.48\n",
            "avg length: 9.58\n",
            "avg length: 88.3\n",
            "avg length: 155.92\n",
            "avg length: 9.44\n",
            "avg length: 9.13\n",
            "avg length: 9.03\n",
            "avg length: 9.27\n",
            "avg length: 8.91\n",
            "avg length: 26.46\n",
            "avg length: 9.15\n",
            "avg length: 8.99\n",
            "avg length: 16.05\n",
            "avg length: 74.86\n",
            "avg length: 9.86\n",
            "avg length: 88.08\n",
            "avg length: 19.55\n",
            "avg length: 8.96\n",
            "avg length: 36.9\n",
            "avg length: 78.93\n",
            "avg length: 81.6\n",
            "avg length: 99.51\n",
            "avg length: 8.89\n",
            "avg length: 141.34\n",
            "avg length: 8.95\n",
            "avg length: 9.7\n",
            "avg length: 152.2\n",
            "avg length: 9.36\n",
            "avg length: 9.05\n",
            "avg length: 75.66\n",
            "avg length: 25.59\n",
            "avg length: 9.78\n",
            "avg length: 9.73\n",
            "avg length: 87.79\n",
            "avg length: 9.01\n",
            "avg length: 31.74\n",
            "avg length: 16.07\n",
            "avg length: 120.29\n",
            "avg length: 9.2\n",
            "avg length: 127.19\n",
            "avg length: 16.3\n",
            "avg length: 200.0\n",
            "avg length: 8.78\n",
            "avg length: 9.51\n",
            "avg length: 66.84\n",
            "avg length: 149.37\n",
            "avg length: 9.31\n",
            "avg length: 83.24\n",
            "avg length: 144.11\n",
            "avg length: 34.71\n",
            "avg length: 9.17\n",
            "avg length: 8.84\n",
            "avg length: 34.78\n",
            "avg length: 9.68\n",
            "avg length: 8.96\n",
            "avg length: 12.32\n",
            "avg length: 9.57\n",
            "avg length: 33.78\n",
            "avg length: 9.52\n",
            "avg length: 177.92\n",
            "avg length: 9.19\n",
            "avg length: 135.95\n",
            "avg length: 196.42\n",
            "avg length: 19.65\n"
          ],
          "name": "stdout"
        },
        {
          "output_type": "display_data",
          "data": {
            "image/png": "[encoded data removed]",
            "text/plain": [
              "<Figure size 432x288 with 1 Axes>"
            ]
          },
          "metadata": {
            "tags": []
          }
        },
        {
          "output_type": "stream",
          "text": [
            "***Final run with final weights***\n",
            "avg length: 200.0\n"
          ],
          "name": "stdout"
        }
      ]
    }
  ]
}